{
 "cells": [
  {
   "cell_type": "code",
   "execution_count": 8,
   "metadata": {},
   "outputs": [],
   "source": [
    "import hmac\n",
    "#import string\n",
    "import hashlib\n",
    "import base64\n",
    "import time\n",
    "import requests\n",
    "import json\n",
    "import warnings\n",
    "\n",
    "from base64 import b64decode, b64encode\n",
    "from bs4 import BeautifulSoup\n",
    "\n",
    "warnings.filterwarnings(action='ignore')\n",
    "\n",
    "# https://python.flowdas.com/library/hashlib.html - hashlib 보안 해시와 메시지 요약\n",
    "# https://python.flowdas.com/library/hmac.html - hmac 메시지 인증을 위한 키 해싱\n",
    "\n",
    "# Why Python and Node.js's HMAC result is different in this code? - python과 js의 차이\n",
    "# https://stackoverflow.com/questions/48303874/why-python-and-node-jss-hmac-result-is-different-in-this-code\n"
   ]
  },
  {
   "cell_type": "code",
   "execution_count": 9,
   "metadata": {},
   "outputs": [],
   "source": [
    "def pypapago2(language_input,search):\n",
    "    \n",
    "    # key값을 알기위한 코드 ===================================================\n",
    "    # https://docs.python.org/ko/3/library/hashlib.html#\n",
    "    # timestamp를 기준으로 mp5()암호화\n",
    "    timestamp = int(time.time()*1000)\n",
    "\n",
    "    # =======================================================================\n",
    "    key = (\"v1.5.5_69bb9312e1\").encode('utf-8')\n",
    "    msg = '984e1d51-c8ca-4f4b-97f3-9c48cd2c04aa'+\\\n",
    "        \"\\n\"+\\\n",
    "        'https://papago.naver.com/apis/langs/dect' +\\\n",
    "        \"\\n\"+\\\n",
    "        str(timestamp)\n",
    "\n",
    "    hmac_result = hmac.new(key, msg.encode('utf-8'), hashlib.md5)\n",
    "    key_code = b64encode(hmac_result.digest()).decode('utf-8')\n",
    "\n",
    "    #print(b64encode(hmac_result.digest()).decode('utf-8'))\n",
    "    #print(base64.b64encode(hmac_result.digest()).decode('utf-8'))\n",
    "    # ======================================================================\n",
    "    # 언어 감지\n",
    "    # 알아낸 key_code 값으로 파싱 시작\n",
    "    \n",
    "    url = 'https://papago.naver.com/apis/langs/dect'\n",
    "    \n",
    "    headers = {\n",
    "        'Authorization':'PPG 984e1d51-c8ca-4f4b-97f3-9c48cd2c04aa:'+ str(key_code),\n",
    "        'Timestamp': str(timestamp),\n",
    "        'User-Agent':'Mozilla/5.0 (Windows NT 10.0; Win64; x64) AppleWebKit/537.36 (KHTML, like Gecko) Chrome/86.0.4240.111 Safari/537.36'\n",
    "    }\n",
    "    \n",
    "    data = {\n",
    "        'query': search\n",
    "    }\n",
    "    \n",
    "    resp = requests.post(url,headers=headers,data=data,verify=False)\n",
    "    lang = resp.json()['langCode']\n",
    "    \n",
    "    # ======================================================================\n",
    "    # 언어감지 값으로 결과 도출\n",
    "\n",
    "    key = (\"v1.5.5_69bb9312e1\").encode('utf-8')\n",
    "    msg = '984e1d51-c8ca-4f4b-97f3-9c48cd2c04aa'+\\\n",
    "        \"\\n\"+\\\n",
    "        'https://papago.naver.com/apis/n2mt/translate' +\\\n",
    "        \"\\n\"+\\\n",
    "        str(timestamp)\n",
    "\n",
    "    hmac_result = hmac.new(key, msg.encode('utf-8'), hashlib.md5)\n",
    "    key_code = b64encode(hmac_result.digest()).decode('utf-8')\n",
    "    \n",
    "    url = 'https://papago.naver.com/apis/n2mt/translate'\n",
    "\n",
    "    headers = {\n",
    "        'Authorization':'PPG 984e1d51-c8ca-4f4b-97f3-9c48cd2c04aa:'+ str(key_code),\n",
    "        'Timestamp': str(timestamp),\n",
    "        'User-Agent':'Mozilla/5.0 (Windows NT 10.0; Win64; x64) AppleWebKit/537.36 (KHTML, like Gecko) Chrome/86.0.4240.111 Safari/537.36'\n",
    "    }\n",
    "        \n",
    "    language = {\n",
    "        '영어':'en',\n",
    "        '한국어':'ko',\n",
    "        '일본어':'ja'\n",
    "    }\n",
    "    \n",
    "    data = {\n",
    "        'deviceId': '984e1d51-c8ca-4f4b-97f3-9c48cd2c04aa',\n",
    "        'locale': 'ko',\n",
    "        'dict': 'true',\n",
    "        'dictDisplay': '30',\n",
    "        'honorific': 'false',\n",
    "        'instant': 'false',\n",
    "        'paging': 'false',\n",
    "        'source': str(lang),\n",
    "        'target': language[language_input],\n",
    "        'text': search\n",
    "    }\n",
    "    \n",
    "    resp = requests.post(url,headers=headers,data=data,verify=False).text\n",
    "    translatedText = json.loads(resp)['translatedText']\n",
    "    return translatedText"
   ]
  },
  {
   "cell_type": "code",
   "execution_count": 10,
   "metadata": {},
   "outputs": [
    {
     "name": "stdout",
     "output_type": "stream",
     "text": [
      "불가능은 없다\n"
     ]
    },
    {
     "data": {
      "text/plain": [
       "'Nothing is impossible.'"
      ]
     },
     "execution_count": 10,
     "metadata": {},
     "output_type": "execute_result"
    }
   ],
   "source": [
    "pypapago2('영어',input())"
   ]
  }
 ],
 "metadata": {
  "kernelspec": {
   "display_name": "Python 3",
   "language": "python",
   "name": "python3"
  },
  "language_info": {
   "codemirror_mode": {
    "name": "ipython",
    "version": 3
   },
   "file_extension": ".py",
   "mimetype": "text/x-python",
   "name": "python",
   "nbconvert_exporter": "python",
   "pygments_lexer": "ipython3",
   "version": "3.8.5"
  }
 },
 "nbformat": 4,
 "nbformat_minor": 4
}
