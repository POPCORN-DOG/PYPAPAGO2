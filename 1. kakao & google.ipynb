{
 "cells": [
  {
   "cell_type": "code",
   "execution_count": 1,
   "metadata": {},
   "outputs": [],
   "source": [
    "import hmac\n",
    "import string\n",
    "import hashlib\n",
    "import base64\n",
    "import time\n",
    "import requests\n",
    "import json\n",
    "import warnings\n",
    "\n",
    "from base64 import b64decode, b64encode\n",
    "from bs4 import BeautifulSoup\n",
    "\n",
    "warnings.filterwarnings(action='ignore')\n",
    "\n",
    "# https://python.flowdas.com/library/hashlib.html - hashlib 보안 해시와 메시지 요약\n",
    "# https://python.flowdas.com/library/hmac.html - hmac 메시지 인증을 위한 키 해싱\n",
    "\n",
    "# Why Python and Node.js's HMAC result is different in this code? - python과 js의 차이\n",
    "# https://stackoverflow.com/questions/48303874/why-python-and-node-jss-hmac-result-is-different-in-this-code\n"
   ]
  },
  {
   "cell_type": "markdown",
   "metadata": {},
   "source": [
    "# 1. KAKAO"
   ]
  },
  {
   "cell_type": "code",
   "execution_count": 3,
   "metadata": {},
   "outputs": [],
   "source": [
    "\n",
    "# https://translate.kakao.com/\n",
    "\n",
    "def KAKAO_I(language_input,query):\n",
    "    url = \"https://translate.kakao.com/translator/translate.json\"\n",
    "\n",
    "    headers = {\n",
    "        \"Referer\":\"https://translate.kakao.com/\",\n",
    "        \"User-Agent\":\"Mozilla/5.0\"\n",
    "    }\n",
    "\n",
    "    language = {\n",
    "        '영어':'en',\n",
    "        '한국어':'ko',\n",
    "        '일본어':'jp',\n",
    "        '중국어':'cn'\n",
    "    }\n",
    "    \n",
    "    data = {\n",
    "        \"queryLanguage\":\"auto\",\n",
    "        \"resultLanguage\": language[language_input],\n",
    "        \"q\": query\n",
    "    }\n",
    "\n",
    "    resp = requests.post(url, headers=headers,data=data)\n",
    "    data = resp.json()\n",
    "    #pprint.pprint(data)\n",
    "    output = data['result']['output'][0]\n",
    "    return output"
   ]
  },
  {
   "cell_type": "code",
   "execution_count": 4,
   "metadata": {},
   "outputs": [
    {
     "name": "stdout",
     "output_type": "stream",
     "text": [
      "카카오 번역기\n"
     ]
    },
    {
     "data": {
      "text/plain": [
       "['cacao translator']"
      ]
     },
     "execution_count": 4,
     "metadata": {},
     "output_type": "execute_result"
    }
   ],
   "source": [
    "KAKAO_I('영어',input())"
   ]
  },
  {
   "cell_type": "markdown",
   "metadata": {},
   "source": [
    "# 2. google"
   ]
  },
  {
   "cell_type": "code",
   "execution_count": 6,
   "metadata": {},
   "outputs": [],
   "source": [
    "#\n",
    "# 496 글자 수 제한.\n",
    "\n",
    "def GOOGLE(language_input,search):  \n",
    "    \n",
    "    url = 'https://www.google.com/async/translate?vet=12ahUKEwjQutOP5ersAhULA4gKHeksDAgQqDgwAHoECAUQJg..i&ei=f52jX5D_BouGoATp2bBA&yv=3'\n",
    "    \n",
    "    headers = {\n",
    "        'authority': 'www.google.com',\n",
    "        'method': 'POST',\n",
    "        'path': '/async/translate?vet=12ahUKEwjQutOP5ersAhULA4gKHeksDAgQqDgwAHoECAUQJg..i&ei=f52jX5D_BouGoATp2bBA&yv=3',\n",
    "        'scheme': 'https',\n",
    "        'accept': '*/*',\n",
    "        'accept-encoding': 'gzip, deflate, br',\n",
    "        'accept-language': 'ko,en;q=0.9,en-US;q=0.8',\n",
    "        'content-length': '191',\n",
    "        'content-type': 'application/x-www-form-urlencoded;charset=UTF-8',\n",
    "        'cookie': 'HSID=Af6Y5tdMgpypVpdfv; SSID=Ax7__D_UIK99PTh63; APISID=9Se8brD6VSpnRxF_/AbngzUeuG9u2ywi93; SAPISID=rSsigHlEo4T7jGPp/Ah7I2wem68sZ4V7OH; __Secure-3PAPISID=rSsigHlEo4T7jGPp/Ah7I2wem68sZ4V7OH; ANID=OPT_OUT; OTZ=5689525_20_20__20_; SID=2wdM48Wx4G_hHR_iSyBF3e8wLP2neu9TtB-xjjSYpp8gbjg64i0_I91DIZ6M3XJ-uUnuBA.; __Secure-3PSID=2wdM48Wx4G_hHR_iSyBF3e8wLP2neu9TtB-xjjSYpp8gbjg6BvCi_LhnjCmElpDBcUqAlA.; 1P_JAR=2020-11-05-06; DV=sxUmcdDqGq8ZYPXf0FOdhZDHnfNxWRc; NID=204=XdTbROmGx_0UVpJJj6OHS5OxYDccZ_1zCYz7WwS46hhKtjXOY2EEmRXyaErN1mVxPW8xkKj6qIGvK8nDexqzDwwu3bhaYQPBlzOHqpqVFBTW9ujsNaer2pP9PIE_dkgQRgJhvJjkV7PRh_pIt09jv3d_9SaAvUo1orwLlRgNwKVPzHOw5gemfrCgEGfwVtMxygS6oBxihqTVjYKS2wsV9-yUWf8gURxq347tMFZ9zrOl-eyHf1lAOgC9ahzn710iGq6cHRyF4UA2; SIDCC=AJi4QfGEdqZDtwJeb879hYZfZEqmJwoBE0KPMCBRrweXIVSyGA-Isekaw2saOXSZk00Wvpw6LsnB; __Secure-3PSIDCC=AJi4QfEIzY8kB8UW3IUcw6yGI1yf1CrsBEvPJ1_D9p-SJvAs0X8aRpeuKxkU_Q3imPEZuyiWMDg',    'origin': 'https://www.google.com',\n",
    "        'referer': 'https://www.google.com/',\n",
    "        'sec-fetch-dest': 'empty',\n",
    "        'sec-fetch-mode': 'cors',\n",
    "        'sec-fetch-site': 'same-origin',\n",
    "        'user-agent': 'Mozilla/5.0 (Windows NT 10.0; Win64; x64) AppleWebKit/537.36 (KHTML, like Gecko) Chrome/86.0.4240.111 Safari/537.36',\n",
    "        'x-client-data': 'CI+2yQEIpbbJAQjBtskBCKmdygEIn7jKAQirx8oBCPXHygEI6cjKAQi0y8oBCNvVygEIx5nLAQiYmssBGIvBygE=\\\n",
    "        Decoded:\\\n",
    "        message ClientVariations {\\\n",
    "          // Active client experiment variation IDs.\\\n",
    "          repeated int32 variation_id = [3300111, 3300133, 3300161, 3313321, 3316767, 3318699, 3318773, 3318889, 3319220, 3320539, 3329223, 3329304];\\\n",
    "          // Active client experiment variation IDs that trigger server-side behavior.\\\n",
    "          repeated int32 trigger_variation_id = [3317899];\\\n",
    "        }'\n",
    "    }\n",
    "        \n",
    "    language = {\n",
    "        '영어':'en',\n",
    "        '한국어':'ko',\n",
    "        '일본어':'jp',\n",
    "        '중국어':'cn'\n",
    "    }\n",
    "    \n",
    "\n",
    "    data = {\n",
    "        'async': 'translate,sl:auto,tl:' + language[language_input] +\\\n",
    "        ',st:' + search +\\\n",
    "        ',id:1604558300767,qc:true,ac:true,_id:tw-async-translate,_pms:s,_fmt:pc'\n",
    "    }\n",
    "\n",
    "    resp = requests.post(url,headers=headers,data=data,verify=False)\n",
    "    soup = BeautifulSoup(resp.text, 'lxml')\n",
    "    output = soup.find(\"span\",id=\"tw-answ-target-text\").text\n",
    "    return output"
   ]
  },
  {
   "cell_type": "code",
   "execution_count": 7,
   "metadata": {},
   "outputs": [
    {
     "name": "stdout",
     "output_type": "stream",
     "text": [
      "구글 번역기\n"
     ]
    },
    {
     "data": {
      "text/plain": [
       "'Google Translator'"
      ]
     },
     "execution_count": 7,
     "metadata": {},
     "output_type": "execute_result"
    }
   ],
   "source": [
    "GOOGLE('영어',input())"
   ]
  }
 ],
 "metadata": {
  "kernelspec": {
   "display_name": "Python 3",
   "language": "python",
   "name": "python3"
  },
  "language_info": {
   "codemirror_mode": {
    "name": "ipython",
    "version": 3
   },
   "file_extension": ".py",
   "mimetype": "text/x-python",
   "name": "python",
   "nbconvert_exporter": "python",
   "pygments_lexer": "ipython3",
   "version": "3.8.5"
  }
 },
 "nbformat": 4,
 "nbformat_minor": 4
}
